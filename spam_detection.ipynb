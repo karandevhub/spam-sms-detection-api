{
  "cells": [
    {
      "cell_type": "markdown",
      "metadata": {
        "id": "pzpRlAiQWCx0"
      },
      "source": [
        "\n",
        "1. DATA CLEANING\n",
        "2. EDA (Exploratory Data Analysis)\n",
        "3. TEXT PREPROCESSING\n",
        "4. MODAL BUILDING\n",
        "5. EVALUATION\n",
        "6. IMPROVMENT\n",
        "7. WEBSITE\n"
      ]
    },
    {
      "cell_type": "markdown",
      "metadata": {
        "id": "9wSJsYRMJyOb"
      },
      "source": [
        "1 DATA CLEANING"
      ]
    },
    {
      "cell_type": "markdown",
      "metadata": {
        "id": "YiefzjVjWCx4"
      },
      "source": [
        "### 1.1 Importing the libraries"
      ]
    },
    {
      "cell_type": "code",
      "execution_count": 226,
      "metadata": {
        "id": "WKVzjox3WCx5"
      },
      "outputs": [],
      "source": [
        "import numpy as np # to work with large multidimensional array\n",
        "import pandas as pd # to handle and analyze datasets"
      ]
    },
    {
      "cell_type": "markdown",
      "metadata": {
        "id": "xH1zpSaAWCx5"
      },
      "source": [
        "### 1.2 Importing datasets"
      ]
    },
    {
      "cell_type": "code",
      "execution_count": 227,
      "metadata": {
        "colab": {
          "base_uri": "https://localhost:8080/",
          "height": 292
        },
        "id": "0A22uSkMWCx6",
        "outputId": "1e2681d9-50ca-472b-900b-f873523814f0"
      },
      "outputs": [
        {
          "data": {
            "text/html": [
              "<div>\n",
              "<style scoped>\n",
              "    .dataframe tbody tr th:only-of-type {\n",
              "        vertical-align: middle;\n",
              "    }\n",
              "\n",
              "    .dataframe tbody tr th {\n",
              "        vertical-align: top;\n",
              "    }\n",
              "\n",
              "    .dataframe thead th {\n",
              "        text-align: right;\n",
              "    }\n",
              "</style>\n",
              "<table border=\"1\" class=\"dataframe\">\n",
              "  <thead>\n",
              "    <tr style=\"text-align: right;\">\n",
              "      <th></th>\n",
              "      <th>v1</th>\n",
              "      <th>v2</th>\n",
              "      <th>Unnamed: 2</th>\n",
              "      <th>Unnamed: 3</th>\n",
              "      <th>Unnamed: 4</th>\n",
              "    </tr>\n",
              "  </thead>\n",
              "  <tbody>\n",
              "    <tr>\n",
              "      <th>2459</th>\n",
              "      <td>ham</td>\n",
              "      <td>I have had two more letters from . I will copy...</td>\n",
              "      <td>NaN</td>\n",
              "      <td>NaN</td>\n",
              "      <td>NaN</td>\n",
              "    </tr>\n",
              "    <tr>\n",
              "      <th>2010</th>\n",
              "      <td>ham</td>\n",
              "      <td>And how's your husband.</td>\n",
              "      <td>NaN</td>\n",
              "      <td>NaN</td>\n",
              "      <td>NaN</td>\n",
              "    </tr>\n",
              "    <tr>\n",
              "      <th>2170</th>\n",
              "      <td>ham</td>\n",
              "      <td>\\YEH I AM DEF UP4 SOMETHING SAT</td>\n",
              "      <td>JUST GOT PAYED2DAY &amp; I HAVBEEN GIVEN Aï¿½50 PA...</td>\n",
              "      <td>NaN</td>\n",
              "      <td>NaN</td>\n",
              "    </tr>\n",
              "    <tr>\n",
              "      <th>2191</th>\n",
              "      <td>ham</td>\n",
              "      <td>Ya it came a while ago</td>\n",
              "      <td>NaN</td>\n",
              "      <td>NaN</td>\n",
              "      <td>NaN</td>\n",
              "    </tr>\n",
              "    <tr>\n",
              "      <th>2590</th>\n",
              "      <td>ham</td>\n",
              "      <td>Oh... Lk tt den we take e one tt ends at cine ...</td>\n",
              "      <td>NaN</td>\n",
              "      <td>NaN</td>\n",
              "      <td>NaN</td>\n",
              "    </tr>\n",
              "  </tbody>\n",
              "</table>\n",
              "</div>"
            ],
            "text/plain": [
              "       v1                                                 v2  \\\n",
              "2459  ham  I have had two more letters from . I will copy...   \n",
              "2010  ham                            And how's your husband.   \n",
              "2170  ham                    \\YEH I AM DEF UP4 SOMETHING SAT   \n",
              "2191  ham                             Ya it came a while ago   \n",
              "2590  ham  Oh... Lk tt den we take e one tt ends at cine ...   \n",
              "\n",
              "                                             Unnamed: 2 Unnamed: 3 Unnamed: 4  \n",
              "2459                                                NaN        NaN        NaN  \n",
              "2010                                                NaN        NaN        NaN  \n",
              "2170  JUST GOT PAYED2DAY & I HAVBEEN GIVEN Aï¿½50 PA...        NaN        NaN  \n",
              "2191                                                NaN        NaN        NaN  \n",
              "2590                                                NaN        NaN        NaN  "
            ]
          },
          "execution_count": 227,
          "metadata": {},
          "output_type": "execute_result"
        }
      ],
      "source": [
        "dataset = pd.read_csv('spam.csv', encoding='ISO-8859-1')\n",
        "# encoding is necessary to avoid errors\n",
        "dataset.sample(5) #taking out 5 rows from the dataset randomly"
      ]
    },
    {
      "cell_type": "markdown",
      "metadata": {
        "id": "QJ2GFVBWWCx6"
      },
      "source": [
        "### 1.3 Data cleaning"
      ]
    },
    {
      "cell_type": "markdown",
      "metadata": {
        "id": "R9FAGkh9WCx7"
      },
      "source": [
        "#### Drop last 3 cloumn"
      ]
    },
    {
      "cell_type": "code",
      "execution_count": 228,
      "metadata": {
        "colab": {
          "base_uri": "https://localhost:8080/",
          "height": 206
        },
        "id": "c5AbeV96WCx7",
        "outputId": "31fc074a-4098-4e94-bc9a-5f522584d075"
      },
      "outputs": [
        {
          "data": {
            "text/html": [
              "<div>\n",
              "<style scoped>\n",
              "    .dataframe tbody tr th:only-of-type {\n",
              "        vertical-align: middle;\n",
              "    }\n",
              "\n",
              "    .dataframe tbody tr th {\n",
              "        vertical-align: top;\n",
              "    }\n",
              "\n",
              "    .dataframe thead th {\n",
              "        text-align: right;\n",
              "    }\n",
              "</style>\n",
              "<table border=\"1\" class=\"dataframe\">\n",
              "  <thead>\n",
              "    <tr style=\"text-align: right;\">\n",
              "      <th></th>\n",
              "      <th>v1</th>\n",
              "      <th>v2</th>\n",
              "    </tr>\n",
              "  </thead>\n",
              "  <tbody>\n",
              "    <tr>\n",
              "      <th>3544</th>\n",
              "      <td>ham</td>\n",
              "      <td>And now electricity just went out fml.</td>\n",
              "    </tr>\n",
              "    <tr>\n",
              "      <th>2531</th>\n",
              "      <td>ham</td>\n",
              "      <td>I'll talk to the others and probably just come...</td>\n",
              "    </tr>\n",
              "    <tr>\n",
              "      <th>878</th>\n",
              "      <td>ham</td>\n",
              "      <td>I don't think I can get away for a trek that l...</td>\n",
              "    </tr>\n",
              "    <tr>\n",
              "      <th>442</th>\n",
              "      <td>ham</td>\n",
              "      <td>Not sure yet, still trying to get a hold of him</td>\n",
              "    </tr>\n",
              "    <tr>\n",
              "      <th>3340</th>\n",
              "      <td>ham</td>\n",
              "      <td>Ugh hopefully the asus ppl dont randomly do a ...</td>\n",
              "    </tr>\n",
              "  </tbody>\n",
              "</table>\n",
              "</div>"
            ],
            "text/plain": [
              "       v1                                                 v2\n",
              "3544  ham             And now electricity just went out fml.\n",
              "2531  ham  I'll talk to the others and probably just come...\n",
              "878   ham  I don't think I can get away for a trek that l...\n",
              "442   ham    Not sure yet, still trying to get a hold of him\n",
              "3340  ham  Ugh hopefully the asus ppl dont randomly do a ..."
            ]
          },
          "execution_count": 228,
          "metadata": {},
          "output_type": "execute_result"
        }
      ],
      "source": [
        "dataset.drop(columns=['Unnamed: 2','Unnamed: 3','Unnamed: 4'], inplace=True)\n",
        "# unamed 2,3,4 are removed as they contain very less values required\n",
        "dataset.sample(5)"
      ]
    },
    {
      "cell_type": "markdown",
      "metadata": {
        "id": "EvDgnRU_WCx7"
      },
      "source": [
        "#### Rename column"
      ]
    },
    {
      "cell_type": "code",
      "execution_count": 229,
      "metadata": {
        "colab": {
          "base_uri": "https://localhost:8080/",
          "height": 206
        },
        "id": "vHa_M8uDWCx8",
        "outputId": "4246780a-705f-40ba-ab28-d0ff4e09e82a"
      },
      "outputs": [
        {
          "data": {
            "text/html": [
              "<div>\n",
              "<style scoped>\n",
              "    .dataframe tbody tr th:only-of-type {\n",
              "        vertical-align: middle;\n",
              "    }\n",
              "\n",
              "    .dataframe tbody tr th {\n",
              "        vertical-align: top;\n",
              "    }\n",
              "\n",
              "    .dataframe thead th {\n",
              "        text-align: right;\n",
              "    }\n",
              "</style>\n",
              "<table border=\"1\" class=\"dataframe\">\n",
              "  <thead>\n",
              "    <tr style=\"text-align: right;\">\n",
              "      <th></th>\n",
              "      <th>Output</th>\n",
              "      <th>Text</th>\n",
              "    </tr>\n",
              "  </thead>\n",
              "  <tbody>\n",
              "    <tr>\n",
              "      <th>180</th>\n",
              "      <td>ham</td>\n",
              "      <td>Hi! You just spoke to MANEESHA V. We'd like to...</td>\n",
              "    </tr>\n",
              "    <tr>\n",
              "      <th>1972</th>\n",
              "      <td>ham</td>\n",
              "      <td>If we hit it off, you can move in with me :)</td>\n",
              "    </tr>\n",
              "    <tr>\n",
              "      <th>3856</th>\n",
              "      <td>ham</td>\n",
              "      <td>Dad says hurry the hell up</td>\n",
              "    </tr>\n",
              "    <tr>\n",
              "      <th>3772</th>\n",
              "      <td>ham</td>\n",
              "      <td>I know you mood off today</td>\n",
              "    </tr>\n",
              "    <tr>\n",
              "      <th>2206</th>\n",
              "      <td>ham</td>\n",
              "      <td>IM GONNA MISS U SO MUCH</td>\n",
              "    </tr>\n",
              "  </tbody>\n",
              "</table>\n",
              "</div>"
            ],
            "text/plain": [
              "     Output                                               Text\n",
              "180     ham  Hi! You just spoke to MANEESHA V. We'd like to...\n",
              "1972    ham       If we hit it off, you can move in with me :)\n",
              "3856    ham                         Dad says hurry the hell up\n",
              "3772    ham                          I know you mood off today\n",
              "2206    ham                            IM GONNA MISS U SO MUCH"
            ]
          },
          "execution_count": 229,
          "metadata": {},
          "output_type": "execute_result"
        }
      ],
      "source": [
        "dataset.rename(columns={'v1':'Output','v2':'Text'},inplace=True)\n",
        "# changing column names and inplace is used to make changes in the original dataset\n",
        "dataset.sample(5)"
      ]
    },
    {
      "cell_type": "markdown",
      "metadata": {
        "id": "2SxzWcBjWCx8"
      },
      "source": [
        "## 1.4 Encoding categorical data"
      ]
    },
    {
      "cell_type": "code",
      "execution_count": 230,
      "metadata": {
        "colab": {
          "base_uri": "https://localhost:8080/",
          "height": 206
        },
        "id": "ivuASCRAWCx8",
        "outputId": "8b5e2a1f-f2f8-4510-e982-312016683415"
      },
      "outputs": [
        {
          "data": {
            "text/html": [
              "<div>\n",
              "<style scoped>\n",
              "    .dataframe tbody tr th:only-of-type {\n",
              "        vertical-align: middle;\n",
              "    }\n",
              "\n",
              "    .dataframe tbody tr th {\n",
              "        vertical-align: top;\n",
              "    }\n",
              "\n",
              "    .dataframe thead th {\n",
              "        text-align: right;\n",
              "    }\n",
              "</style>\n",
              "<table border=\"1\" class=\"dataframe\">\n",
              "  <thead>\n",
              "    <tr style=\"text-align: right;\">\n",
              "      <th></th>\n",
              "      <th>Output</th>\n",
              "      <th>Text</th>\n",
              "    </tr>\n",
              "  </thead>\n",
              "  <tbody>\n",
              "    <tr>\n",
              "      <th>0</th>\n",
              "      <td>0</td>\n",
              "      <td>Go until jurong point, crazy.. Available only ...</td>\n",
              "    </tr>\n",
              "    <tr>\n",
              "      <th>1</th>\n",
              "      <td>0</td>\n",
              "      <td>Ok lar... Joking wif u oni...</td>\n",
              "    </tr>\n",
              "    <tr>\n",
              "      <th>2</th>\n",
              "      <td>1</td>\n",
              "      <td>Free entry in 2 a wkly comp to win FA Cup fina...</td>\n",
              "    </tr>\n",
              "    <tr>\n",
              "      <th>3</th>\n",
              "      <td>0</td>\n",
              "      <td>U dun say so early hor... U c already then say...</td>\n",
              "    </tr>\n",
              "    <tr>\n",
              "      <th>4</th>\n",
              "      <td>0</td>\n",
              "      <td>Nah I don't think he goes to usf, he lives aro...</td>\n",
              "    </tr>\n",
              "  </tbody>\n",
              "</table>\n",
              "</div>"
            ],
            "text/plain": [
              "   Output                                               Text\n",
              "0       0  Go until jurong point, crazy.. Available only ...\n",
              "1       0                      Ok lar... Joking wif u oni...\n",
              "2       1  Free entry in 2 a wkly comp to win FA Cup fina...\n",
              "3       0  U dun say so early hor... U c already then say...\n",
              "4       0  Nah I don't think he goes to usf, he lives aro..."
            ]
          },
          "execution_count": 230,
          "metadata": {},
          "output_type": "execute_result"
        }
      ],
      "source": [
        "from sklearn.preprocessing import LabelEncoder\n",
        "# LabelEncoder used to label values as 0 and 1\n",
        "lb=LabelEncoder()\n",
        "dataset['Output']=lb.fit_transform(dataset['Output'])\n",
        "dataset.head() # displays first few rows of dataset\n"
      ]
    },
    {
      "cell_type": "markdown",
      "metadata": {
        "id": "AmPCC5PxWCx9"
      },
      "source": [
        "## 1.5 Take care for Missing &&  Duplicate data\n"
      ]
    },
    {
      "cell_type": "markdown",
      "metadata": {
        "id": "CjNKXjtIWCx9"
      },
      "source": [
        "#### Checking missing data\n"
      ]
    },
    {
      "cell_type": "code",
      "execution_count": 231,
      "metadata": {
        "colab": {
          "base_uri": "https://localhost:8080/"
        },
        "id": "LAHDYwkVWCx-",
        "outputId": "57225bd0-c828-4f5f-a2e8-536f132deed1"
      },
      "outputs": [
        {
          "data": {
            "text/plain": [
              "Output    0\n",
              "Text      0\n",
              "dtype: int64"
            ]
          },
          "execution_count": 231,
          "metadata": {},
          "output_type": "execute_result"
        }
      ],
      "source": [
        "dataset.isnull().sum()\n",
        "# sum() counts number of true values when used with boolean dataset"
      ]
    },
    {
      "cell_type": "markdown",
      "metadata": {
        "id": "Ug_nCCXrWCx-"
      },
      "source": [
        "#### Checking duplicatedata"
      ]
    },
    {
      "cell_type": "code",
      "execution_count": 232,
      "metadata": {
        "colab": {
          "base_uri": "https://localhost:8080/"
        },
        "id": "YvlTPuQ9WCx-",
        "outputId": "ab66e957-b5d7-4466-9568-289538f2d00e"
      },
      "outputs": [
        {
          "data": {
            "text/plain": [
              "467"
            ]
          },
          "execution_count": 232,
          "metadata": {},
          "output_type": "execute_result"
        }
      ],
      "source": [
        "dataset.duplicated().sum()"
      ]
    },
    {
      "cell_type": "markdown",
      "metadata": {
        "id": "0eOS6coZWCx-"
      },
      "source": [
        "#### Removing Duplicate\n"
      ]
    },
    {
      "cell_type": "code",
      "execution_count": 233,
      "metadata": {
        "colab": {
          "base_uri": "https://localhost:8080/"
        },
        "id": "lgKoPXdBWCx-",
        "outputId": "108ef4b5-520d-4822-9b40-586192f75c93"
      },
      "outputs": [
        {
          "data": {
            "text/plain": [
              "0"
            ]
          },
          "execution_count": 233,
          "metadata": {},
          "output_type": "execute_result"
        }
      ],
      "source": [
        "dataset=dataset.drop_duplicates(keep='first')\n",
        "dataset.duplicated().sum()"
      ]
    },
    {
      "cell_type": "markdown",
      "metadata": {
        "id": "QrSIsk2q2Db-"
      },
      "source": [
        "# 2. EDA( Exploratory Data Analysis )\n",
        "\n"
      ]
    },
    {
      "cell_type": "markdown",
      "metadata": {
        "id": "fK6oRkq0vMET"
      },
      "source": [
        "## 2.1 Data Analysis"
      ]
    },
    {
      "cell_type": "code",
      "execution_count": 234,
      "metadata": {
        "colab": {
          "base_uri": "https://localhost:8080/"
        },
        "id": "k5x0mFLd3WBp",
        "outputId": "e310880f-1f07-4be8-adc8-55671c06c5e1"
      },
      "outputs": [
        {
          "data": {
            "text/plain": [
              "Output\n",
              "0    4572\n",
              "1     706\n",
              "Name: count, dtype: int64"
            ]
          },
          "execution_count": 234,
          "metadata": {},
          "output_type": "execute_result"
        }
      ],
      "source": [
        "dataset['Output'].value_counts()\n",
        "# to check data for number of ham and spam"
      ]
    },
    {
      "cell_type": "code",
      "execution_count": 235,
      "metadata": {
        "colab": {
          "base_uri": "https://localhost:8080/",
          "height": 406
        },
        "id": "aFt9RLMh31Ii",
        "outputId": "b208ec69-453f-41b6-ad43-687284b86e08"
      },
      "outputs": [
        {
          "data": {
            "image/png": "[encoded data removed]",
            "text/plain": [
              "<Figure size 640x480 with 1 Axes>"
            ]
          },
          "metadata": {},
          "output_type": "display_data"
        }
      ],
      "source": [
        "# importing pyplot for better data visualization - in form of pie chart\n",
        "import matplotlib.pyplot as plt\n",
        "# creating a pie chart with labels and generating its presence percentage\n",
        "plt.pie(dataset['Output'].value_counts(), labels=['ham', 'spam'], autopct=\"%0.2f\")\n",
        "plt.show() # removing unwanted code"
      ]
    },
    {
      "cell_type": "markdown",
      "metadata": {
        "id": "sbhuTQDf6585"
      },
      "source": [
        "## 2.2 Installing and Importing NLTK( Natural Language Toolkit ) - for classification, tokenization, etc.\n"
      ]
    },
    {
      "cell_type": "markdown",
      "metadata": {
        "id": "5NEo1wKLvxf3"
      },
      "source": [
        "### Installing"
      ]
    },
    {
      "cell_type": "code",
      "execution_count": 236,
      "metadata": {
        "colab": {
          "base_uri": "https://localhost:8080/"
        },
        "id": "0AsDjypb7Jfj",
        "outputId": "8dc09e42-04a2-4e94-821a-b78b96078453"
      },
      "outputs": [
        {
          "name": "stdout",
          "output_type": "stream",
          "text": [
            "Defaulting to user installation because normal site-packages is not writeable\n",
            "Requirement already satisfied: nltk in c:\\users\\karan\\appdata\\roaming\\python\\python311\\site-packages (3.8.1)\n",
            "Requirement already satisfied: click in c:\\users\\karan\\appdata\\roaming\\python\\python311\\site-packages (from nltk) (8.1.7)\n",
            "Requirement already satisfied: joblib in c:\\users\\karan\\appdata\\roaming\\python\\python311\\site-packages (from nltk) (1.3.2)\n",
            "Requirement already satisfied: regex>=2021.8.3 in c:\\users\\karan\\appdata\\roaming\\python\\python311\\site-packages (from nltk) (2023.8.8)\n",
            "Requirement already satisfied: tqdm in c:\\users\\karan\\appdata\\roaming\\python\\python311\\site-packages (from nltk) (4.66.1)\n",
            "Requirement already satisfied: colorama in c:\\users\\karan\\appdata\\roaming\\python\\python311\\site-packages (from click->nltk) (0.4.6)\n"
          ]
        },
        {
          "name": "stderr",
          "output_type": "stream",
          "text": [
            "\n",
            "[notice] A new release of pip is available: 23.3.2 -> 24.0\n",
            "[notice] To update, run: python.exe -m pip install --upgrade pip\n"
          ]
        }
      ],
      "source": [
        "!pip install nltk"
      ]
    },
    {
      "cell_type": "markdown",
      "metadata": {
        "id": "1RtNJn5dsgUX"
      },
      "source": [
        "### Importing"
      ]
    },
    {
      "cell_type": "code",
      "execution_count": 237,
      "metadata": {
        "colab": {
          "base_uri": "https://localhost:8080/"
        },
        "id": "QqRBkonj7Thx",
        "outputId": "e3f522be-3855-42ff-abf9-b5e9dc7baabf"
      },
      "outputs": [
        {
          "name": "stderr",
          "output_type": "stream",
          "text": [
            "[nltk_data] Downloading package punkt to\n",
            "[nltk_data]     C:\\Users\\karan\\AppData\\Roaming\\nltk_data...\n",
            "[nltk_data]   Package punkt is already up-to-date!\n"
          ]
        },
        {
          "data": {
            "text/plain": [
              "True"
            ]
          },
          "execution_count": 237,
          "metadata": {},
          "output_type": "execute_result"
        }
      ],
      "source": [
        "import nltk\n",
        "nltk.download('punkt')\n",
        "# punkt is a pre-trained model for tokenization(words, sentences, characters)"
      ]
    },
    {
      "cell_type": "markdown",
      "metadata": {
        "id": "zw6vCBO8wBLz"
      },
      "source": [
        "## 2.3 Tokenization"
      ]
    },
    {
      "cell_type": "markdown",
      "metadata": {
        "id": "7pMiUaPewL2U"
      },
      "source": [
        "#### Character Tokenization"
      ]
    },
    {
      "cell_type": "code",
      "execution_count": 238,
      "metadata": {
        "colab": {
          "base_uri": "https://localhost:8080/",
          "height": 206
        },
        "id": "4pIm832n8m-L",
        "outputId": "e82f69f2-3372-4074-942a-f06eda7d6d95"
      },
      "outputs": [
        {
          "data": {
            "text/html": [
              "<div>\n",
              "<style scoped>\n",
              "    .dataframe tbody tr th:only-of-type {\n",
              "        vertical-align: middle;\n",
              "    }\n",
              "\n",
              "    .dataframe tbody tr th {\n",
              "        vertical-align: top;\n",
              "    }\n",
              "\n",
              "    .dataframe thead th {\n",
              "        text-align: right;\n",
              "    }\n",
              "</style>\n",
              "<table border=\"1\" class=\"dataframe\">\n",
              "  <thead>\n",
              "    <tr style=\"text-align: right;\">\n",
              "      <th></th>\n",
              "      <th>Output</th>\n",
              "      <th>Text</th>\n",
              "      <th>num_char</th>\n",
              "    </tr>\n",
              "  </thead>\n",
              "  <tbody>\n",
              "    <tr>\n",
              "      <th>0</th>\n",
              "      <td>0</td>\n",
              "      <td>Go until jurong point, crazy.. Available only ...</td>\n",
              "      <td>111</td>\n",
              "    </tr>\n",
              "    <tr>\n",
              "      <th>1</th>\n",
              "      <td>0</td>\n",
              "      <td>Ok lar... Joking wif u oni...</td>\n",
              "      <td>29</td>\n",
              "    </tr>\n",
              "    <tr>\n",
              "      <th>2</th>\n",
              "      <td>1</td>\n",
              "      <td>Free entry in 2 a wkly comp to win FA Cup fina...</td>\n",
              "      <td>155</td>\n",
              "    </tr>\n",
              "    <tr>\n",
              "      <th>3</th>\n",
              "      <td>0</td>\n",
              "      <td>U dun say so early hor... U c already then say...</td>\n",
              "      <td>49</td>\n",
              "    </tr>\n",
              "    <tr>\n",
              "      <th>4</th>\n",
              "      <td>0</td>\n",
              "      <td>Nah I don't think he goes to usf, he lives aro...</td>\n",
              "      <td>61</td>\n",
              "    </tr>\n",
              "  </tbody>\n",
              "</table>\n",
              "</div>"
            ],
            "text/plain": [
              "   Output                                               Text  num_char\n",
              "0       0  Go until jurong point, crazy.. Available only ...       111\n",
              "1       0                      Ok lar... Joking wif u oni...        29\n",
              "2       1  Free entry in 2 a wkly comp to win FA Cup fina...       155\n",
              "3       0  U dun say so early hor... U c already then say...        49\n",
              "4       0  Nah I don't think he goes to usf, he lives aro...        61"
            ]
          },
          "execution_count": 238,
          "metadata": {},
          "output_type": "execute_result"
        }
      ],
      "source": [
        "# finding the length of the characters in a sentence.\n",
        "# making another column 'num_char'\n",
        "dataset['num_char'] = dataset['Text'].apply(len)\n",
        "dataset.head()"
      ]
    },
    {
      "cell_type": "markdown",
      "metadata": {
        "id": "inFLC_6iwSG7"
      },
      "source": [
        "#### Word Tokenization"
      ]
    },
    {
      "cell_type": "code",
      "execution_count": 239,
      "metadata": {
        "colab": {
          "base_uri": "https://localhost:8080/",
          "height": 206
        },
        "id": "fwi_TaC2_VUg",
        "outputId": "f3f92479-11f8-46b8-f56e-074e6fa8dc47"
      },
      "outputs": [
        {
          "data": {
            "text/html": [
              "<div>\n",
              "<style scoped>\n",
              "    .dataframe tbody tr th:only-of-type {\n",
              "        vertical-align: middle;\n",
              "    }\n",
              "\n",
              "    .dataframe tbody tr th {\n",
              "        vertical-align: top;\n",
              "    }\n",
              "\n",
              "    .dataframe thead th {\n",
              "        text-align: right;\n",
              "    }\n",
              "</style>\n",
              "<table border=\"1\" class=\"dataframe\">\n",
              "  <thead>\n",
              "    <tr style=\"text-align: right;\">\n",
              "      <th></th>\n",
              "      <th>Output</th>\n",
              "      <th>Text</th>\n",
              "      <th>num_char</th>\n",
              "      <th>num_words</th>\n",
              "    </tr>\n",
              "  </thead>\n",
              "  <tbody>\n",
              "    <tr>\n",
              "      <th>0</th>\n",
              "      <td>0</td>\n",
              "      <td>Go until jurong point, crazy.. Available only ...</td>\n",
              "      <td>111</td>\n",
              "      <td>24</td>\n",
              "    </tr>\n",
              "    <tr>\n",
              "      <th>1</th>\n",
              "      <td>0</td>\n",
              "      <td>Ok lar... Joking wif u oni...</td>\n",
              "      <td>29</td>\n",
              "      <td>8</td>\n",
              "    </tr>\n",
              "    <tr>\n",
              "      <th>2</th>\n",
              "      <td>1</td>\n",
              "      <td>Free entry in 2 a wkly comp to win FA Cup fina...</td>\n",
              "      <td>155</td>\n",
              "      <td>37</td>\n",
              "    </tr>\n",
              "    <tr>\n",
              "      <th>3</th>\n",
              "      <td>0</td>\n",
              "      <td>U dun say so early hor... U c already then say...</td>\n",
              "      <td>49</td>\n",
              "      <td>13</td>\n",
              "    </tr>\n",
              "    <tr>\n",
              "      <th>4</th>\n",
              "      <td>0</td>\n",
              "      <td>Nah I don't think he goes to usf, he lives aro...</td>\n",
              "      <td>61</td>\n",
              "      <td>15</td>\n",
              "    </tr>\n",
              "  </tbody>\n",
              "</table>\n",
              "</div>"
            ],
            "text/plain": [
              "   Output                                               Text  num_char  \\\n",
              "0       0  Go until jurong point, crazy.. Available only ...       111   \n",
              "1       0                      Ok lar... Joking wif u oni...        29   \n",
              "2       1  Free entry in 2 a wkly comp to win FA Cup fina...       155   \n",
              "3       0  U dun say so early hor... U c already then say...        49   \n",
              "4       0  Nah I don't think he goes to usf, he lives aro...        61   \n",
              "\n",
              "   num_words  \n",
              "0         24  \n",
              "1          8  \n",
              "2         37  \n",
              "3         13  \n",
              "4         15  "
            ]
          },
          "execution_count": 239,
          "metadata": {},
          "output_type": "execute_result"
        }
      ],
      "source": [
        "# breaking the Text into each word and finding length\n",
        "dataset['num_words'] = dataset['Text'].apply(lambda x:len(nltk.word_tokenize(x)))\n",
        "dataset.head()"
      ]
    },
    {
      "cell_type": "markdown",
      "metadata": {
        "id": "oCsDmz9TwWdX"
      },
      "source": [
        "#### Sentence Tokenization"
      ]
    },
    {
      "cell_type": "code",
      "execution_count": 240,
      "metadata": {
        "colab": {
          "base_uri": "https://localhost:8080/",
          "height": 275
        },
        "id": "EhiyONUIwZ4M",
        "outputId": "5e519068-d2b1-471e-cebb-09dbbb3f3649"
      },
      "outputs": [
        {
          "data": {
            "text/html": [
              "<div>\n",
              "<style scoped>\n",
              "    .dataframe tbody tr th:only-of-type {\n",
              "        vertical-align: middle;\n",
              "    }\n",
              "\n",
              "    .dataframe tbody tr th {\n",
              "        vertical-align: top;\n",
              "    }\n",
              "\n",
              "    .dataframe thead th {\n",
              "        text-align: right;\n",
              "    }\n",
              "</style>\n",
              "<table border=\"1\" class=\"dataframe\">\n",
              "  <thead>\n",
              "    <tr style=\"text-align: right;\">\n",
              "      <th></th>\n",
              "      <th>Output</th>\n",
              "      <th>Text</th>\n",
              "      <th>num_char</th>\n",
              "      <th>num_words</th>\n",
              "      <th>num_sent</th>\n",
              "    </tr>\n",
              "  </thead>\n",
              "  <tbody>\n",
              "    <tr>\n",
              "      <th>0</th>\n",
              "      <td>0</td>\n",
              "      <td>Go until jurong point, crazy.. Available only ...</td>\n",
              "      <td>111</td>\n",
              "      <td>24</td>\n",
              "      <td>2</td>\n",
              "    </tr>\n",
              "    <tr>\n",
              "      <th>1</th>\n",
              "      <td>0</td>\n",
              "      <td>Ok lar... Joking wif u oni...</td>\n",
              "      <td>29</td>\n",
              "      <td>8</td>\n",
              "      <td>2</td>\n",
              "    </tr>\n",
              "    <tr>\n",
              "      <th>2</th>\n",
              "      <td>1</td>\n",
              "      <td>Free entry in 2 a wkly comp to win FA Cup fina...</td>\n",
              "      <td>155</td>\n",
              "      <td>37</td>\n",
              "      <td>2</td>\n",
              "    </tr>\n",
              "    <tr>\n",
              "      <th>3</th>\n",
              "      <td>0</td>\n",
              "      <td>U dun say so early hor... U c already then say...</td>\n",
              "      <td>49</td>\n",
              "      <td>13</td>\n",
              "      <td>1</td>\n",
              "    </tr>\n",
              "    <tr>\n",
              "      <th>4</th>\n",
              "      <td>0</td>\n",
              "      <td>Nah I don't think he goes to usf, he lives aro...</td>\n",
              "      <td>61</td>\n",
              "      <td>15</td>\n",
              "      <td>1</td>\n",
              "    </tr>\n",
              "  </tbody>\n",
              "</table>\n",
              "</div>"
            ],
            "text/plain": [
              "   Output                                               Text  num_char  \\\n",
              "0       0  Go until jurong point, crazy.. Available only ...       111   \n",
              "1       0                      Ok lar... Joking wif u oni...        29   \n",
              "2       1  Free entry in 2 a wkly comp to win FA Cup fina...       155   \n",
              "3       0  U dun say so early hor... U c already then say...        49   \n",
              "4       0  Nah I don't think he goes to usf, he lives aro...        61   \n",
              "\n",
              "   num_words  num_sent  \n",
              "0         24         2  \n",
              "1          8         2  \n",
              "2         37         2  \n",
              "3         13         1  \n",
              "4         15         1  "
            ]
          },
          "execution_count": 240,
          "metadata": {},
          "output_type": "execute_result"
        }
      ],
      "source": [
        "# breaking the Text into each sentence and finding length\n",
        "dataset['num_sent'] = dataset['Text'].apply(lambda x:len(nltk.sent_tokenize(x)))\n",
        "dataset.head()"
      ]
    },
    {
      "cell_type": "markdown",
      "metadata": {
        "id": "BTduSmkk4hBG"
      },
      "source": [
        "## Summary"
      ]
    },
    {
      "cell_type": "markdown",
      "metadata": {
        "id": "vZsPsThz6ban"
      },
      "source": [
        "#### Overall Summary"
      ]
    },
    {
      "cell_type": "code",
      "execution_count": 241,
      "metadata": {
        "colab": {
          "base_uri": "https://localhost:8080/",
          "height": 300
        },
        "id": "lrUDQGT_6e7Z",
        "outputId": "aebf61d8-17b3-4638-95b3-fff8fcbde8f2"
      },
      "outputs": [
        {
          "data": {
            "text/html": [
              "<div>\n",
              "<style scoped>\n",
              "    .dataframe tbody tr th:only-of-type {\n",
              "        vertical-align: middle;\n",
              "    }\n",
              "\n",
              "    .dataframe tbody tr th {\n",
              "        vertical-align: top;\n",
              "    }\n",
              "\n",
              "    .dataframe thead th {\n",
              "        text-align: right;\n",
              "    }\n",
              "</style>\n",
              "<table border=\"1\" class=\"dataframe\">\n",
              "  <thead>\n",
              "    <tr style=\"text-align: right;\">\n",
              "      <th></th>\n",
              "      <th>num_char</th>\n",
              "      <th>num_words</th>\n",
              "      <th>num_sent</th>\n",
              "    </tr>\n",
              "  </thead>\n",
              "  <tbody>\n",
              "    <tr>\n",
              "      <th>count</th>\n",
              "      <td>5278.000000</td>\n",
              "      <td>5278.000000</td>\n",
              "      <td>5278.00000</td>\n",
              "    </tr>\n",
              "    <tr>\n",
              "      <th>mean</th>\n",
              "      <td>79.043767</td>\n",
              "      <td>18.394657</td>\n",
              "      <td>1.97158</td>\n",
              "    </tr>\n",
              "    <tr>\n",
              "      <th>std</th>\n",
              "      <td>57.808039</td>\n",
              "      <td>13.207739</td>\n",
              "      <td>1.43640</td>\n",
              "    </tr>\n",
              "    <tr>\n",
              "      <th>min</th>\n",
              "      <td>2.000000</td>\n",
              "      <td>1.000000</td>\n",
              "      <td>1.00000</td>\n",
              "    </tr>\n",
              "    <tr>\n",
              "      <th>25%</th>\n",
              "      <td>36.000000</td>\n",
              "      <td>9.000000</td>\n",
              "      <td>1.00000</td>\n",
              "    </tr>\n",
              "    <tr>\n",
              "      <th>50%</th>\n",
              "      <td>61.000000</td>\n",
              "      <td>15.000000</td>\n",
              "      <td>2.00000</td>\n",
              "    </tr>\n",
              "    <tr>\n",
              "      <th>75%</th>\n",
              "      <td>115.000000</td>\n",
              "      <td>26.000000</td>\n",
              "      <td>2.00000</td>\n",
              "    </tr>\n",
              "    <tr>\n",
              "      <th>max</th>\n",
              "      <td>910.000000</td>\n",
              "      <td>220.000000</td>\n",
              "      <td>38.00000</td>\n",
              "    </tr>\n",
              "  </tbody>\n",
              "</table>\n",
              "</div>"
            ],
            "text/plain": [
              "          num_char    num_words    num_sent\n",
              "count  5278.000000  5278.000000  5278.00000\n",
              "mean     79.043767    18.394657     1.97158\n",
              "std      57.808039    13.207739     1.43640\n",
              "min       2.000000     1.000000     1.00000\n",
              "25%      36.000000     9.000000     1.00000\n",
              "50%      61.000000    15.000000     2.00000\n",
              "75%     115.000000    26.000000     2.00000\n",
              "max     910.000000   220.000000    38.00000"
            ]
          },
          "execution_count": 241,
          "metadata": {},
          "output_type": "execute_result"
        }
      ],
      "source": [
        "# describe() is a Panda method to generate statistics of the dataset\n",
        "dataset[['num_char','num_words','num_sent']].describe()"
      ]
    },
    {
      "cell_type": "markdown",
      "metadata": {
        "id": "ihVxhn3P4vFg"
      },
      "source": [
        "#### Ham Summary"
      ]
    },
    {
      "cell_type": "code",
      "execution_count": 242,
      "metadata": {
        "colab": {
          "base_uri": "https://localhost:8080/",
          "height": 300
        },
        "id": "l5qAPpen40Ar",
        "outputId": "d75065d2-5392-45b5-a087-7686cd5ae23c"
      },
      "outputs": [
        {
          "data": {
            "text/html": [
              "<div>\n",
              "<style scoped>\n",
              "    .dataframe tbody tr th:only-of-type {\n",
              "        vertical-align: middle;\n",
              "    }\n",
              "\n",
              "    .dataframe tbody tr th {\n",
              "        vertical-align: top;\n",
              "    }\n",
              "\n",
              "    .dataframe thead th {\n",
              "        text-align: right;\n",
              "    }\n",
              "</style>\n",
              "<table border=\"1\" class=\"dataframe\">\n",
              "  <thead>\n",
              "    <tr style=\"text-align: right;\">\n",
              "      <th></th>\n",
              "      <th>num_char</th>\n",
              "      <th>num_words</th>\n",
              "      <th>num_sent</th>\n",
              "    </tr>\n",
              "  </thead>\n",
              "  <tbody>\n",
              "    <tr>\n",
              "      <th>count</th>\n",
              "      <td>4572.000000</td>\n",
              "      <td>4572.000000</td>\n",
              "      <td>4572.000000</td>\n",
              "    </tr>\n",
              "    <tr>\n",
              "      <th>mean</th>\n",
              "      <td>70.587270</td>\n",
              "      <td>17.086614</td>\n",
              "      <td>1.823053</td>\n",
              "    </tr>\n",
              "    <tr>\n",
              "      <th>std</th>\n",
              "      <td>56.132142</td>\n",
              "      <td>13.423187</td>\n",
              "      <td>1.376575</td>\n",
              "    </tr>\n",
              "    <tr>\n",
              "      <th>min</th>\n",
              "      <td>2.000000</td>\n",
              "      <td>1.000000</td>\n",
              "      <td>1.000000</td>\n",
              "    </tr>\n",
              "    <tr>\n",
              "      <th>25%</th>\n",
              "      <td>34.000000</td>\n",
              "      <td>8.000000</td>\n",
              "      <td>1.000000</td>\n",
              "    </tr>\n",
              "    <tr>\n",
              "      <th>50%</th>\n",
              "      <td>53.000000</td>\n",
              "      <td>13.000000</td>\n",
              "      <td>1.000000</td>\n",
              "    </tr>\n",
              "    <tr>\n",
              "      <th>75%</th>\n",
              "      <td>90.000000</td>\n",
              "      <td>22.000000</td>\n",
              "      <td>2.000000</td>\n",
              "    </tr>\n",
              "    <tr>\n",
              "      <th>max</th>\n",
              "      <td>910.000000</td>\n",
              "      <td>220.000000</td>\n",
              "      <td>38.000000</td>\n",
              "    </tr>\n",
              "  </tbody>\n",
              "</table>\n",
              "</div>"
            ],
            "text/plain": [
              "          num_char    num_words     num_sent\n",
              "count  4572.000000  4572.000000  4572.000000\n",
              "mean     70.587270    17.086614     1.823053\n",
              "std      56.132142    13.423187     1.376575\n",
              "min       2.000000     1.000000     1.000000\n",
              "25%      34.000000     8.000000     1.000000\n",
              "50%      53.000000    13.000000     1.000000\n",
              "75%      90.000000    22.000000     2.000000\n",
              "max     910.000000   220.000000    38.000000"
            ]
          },
          "execution_count": 242,
          "metadata": {},
          "output_type": "execute_result"
        }
      ],
      "source": [
        "dataset[dataset['Output'] == 0] [['num_char','num_words','num_sent']].describe()"
      ]
    },
    {
      "cell_type": "markdown",
      "metadata": {
        "id": "16c9Aelu5m94"
      },
      "source": [
        "#### Spam Summary"
      ]
    },
    {
      "cell_type": "code",
      "execution_count": 243,
      "metadata": {
        "colab": {
          "base_uri": "https://localhost:8080/",
          "height": 300
        },
        "id": "CJ5yPnj-5p-n",
        "outputId": "d7e0df7e-37ae-4a53-96b9-47c5dede27ad"
      },
      "outputs": [
        {
          "data": {
            "text/html": [
              "<div>\n",
              "<style scoped>\n",
              "    .dataframe tbody tr th:only-of-type {\n",
              "        vertical-align: middle;\n",
              "    }\n",
              "\n",
              "    .dataframe tbody tr th {\n",
              "        vertical-align: top;\n",
              "    }\n",
              "\n",
              "    .dataframe thead th {\n",
              "        text-align: right;\n",
              "    }\n",
              "</style>\n",
              "<table border=\"1\" class=\"dataframe\">\n",
              "  <thead>\n",
              "    <tr style=\"text-align: right;\">\n",
              "      <th></th>\n",
              "      <th>num_char</th>\n",
              "      <th>num_words</th>\n",
              "      <th>num_sent</th>\n",
              "    </tr>\n",
              "  </thead>\n",
              "  <tbody>\n",
              "    <tr>\n",
              "      <th>count</th>\n",
              "      <td>706.000000</td>\n",
              "      <td>706.000000</td>\n",
              "      <td>706.000000</td>\n",
              "    </tr>\n",
              "    <tr>\n",
              "      <th>mean</th>\n",
              "      <td>133.807365</td>\n",
              "      <td>26.865439</td>\n",
              "      <td>2.933428</td>\n",
              "    </tr>\n",
              "    <tr>\n",
              "      <th>std</th>\n",
              "      <td>33.429205</td>\n",
              "      <td>7.385074</td>\n",
              "      <td>1.444908</td>\n",
              "    </tr>\n",
              "    <tr>\n",
              "      <th>min</th>\n",
              "      <td>13.000000</td>\n",
              "      <td>2.000000</td>\n",
              "      <td>1.000000</td>\n",
              "    </tr>\n",
              "    <tr>\n",
              "      <th>25%</th>\n",
              "      <td>121.250000</td>\n",
              "      <td>23.000000</td>\n",
              "      <td>2.000000</td>\n",
              "    </tr>\n",
              "    <tr>\n",
              "      <th>50%</th>\n",
              "      <td>147.000000</td>\n",
              "      <td>28.000000</td>\n",
              "      <td>3.000000</td>\n",
              "    </tr>\n",
              "    <tr>\n",
              "      <th>75%</th>\n",
              "      <td>157.000000</td>\n",
              "      <td>32.000000</td>\n",
              "      <td>4.000000</td>\n",
              "    </tr>\n",
              "    <tr>\n",
              "      <th>max</th>\n",
              "      <td>225.000000</td>\n",
              "      <td>46.000000</td>\n",
              "      <td>9.000000</td>\n",
              "    </tr>\n",
              "  </tbody>\n",
              "</table>\n",
              "</div>"
            ],
            "text/plain": [
              "         num_char   num_words    num_sent\n",
              "count  706.000000  706.000000  706.000000\n",
              "mean   133.807365   26.865439    2.933428\n",
              "std     33.429205    7.385074    1.444908\n",
              "min     13.000000    2.000000    1.000000\n",
              "25%    121.250000   23.000000    2.000000\n",
              "50%    147.000000   28.000000    3.000000\n",
              "75%    157.000000   32.000000    4.000000\n",
              "max    225.000000   46.000000    9.000000"
            ]
          },
          "execution_count": 243,
          "metadata": {},
          "output_type": "execute_result"
        }
      ],
      "source": [
        "dataset[dataset['Output'] == 1] [['num_char','num_words','num_sent']].describe()"
      ]
    },
    {
      "cell_type": "markdown",
      "metadata": {
        "id": "g0Ga1kRM6jJb"
      },
      "source": [
        "#### Summary Representation using Histogram"
      ]
    },
    {
      "cell_type": "code",
      "execution_count": 244,
      "metadata": {
        "colab": {
          "base_uri": "https://localhost:8080/",
          "height": 315
        },
        "id": "4Xx2LDJi6vi_",
        "outputId": "fd0f2129-3b6f-49d4-b4f5-f20f5eeab72c"
      },
      "outputs": [
        {
          "data": {
            "text/plain": [
              "<Axes: xlabel='num_char', ylabel='Count'>"
            ]
          },
          "execution_count": 244,
          "metadata": {},
          "output_type": "execute_result"
        },
        {
          "data": {
            "image/png": "[encoded data removed]",
            "text/plain": [
              "<Figure size 1200x500 with 1 Axes>"
            ]
          },
          "metadata": {},
          "output_type": "display_data"
        }
      ],
      "source": [
        "import seaborn as sns        # used to create histogram plot\n",
        "plt.figure(figsize=(12,5))   # resizing the figure\n",
        "# Plotting histogram taking num-char as the factor\n",
        "sns.histplot(dataset[dataset['Output'] == 0]['num_char'])             # histogram for ham\n",
        "sns.histplot(dataset[dataset['Output'] == 1]['num_char'],color='red') # histogram for spam"
      ]
    },
    {
      "cell_type": "markdown",
      "metadata": {
        "id": "denpTb42-ejo"
      },
      "source": [
        "##### Analyzing Correlation"
      ]
    },
    {
      "cell_type": "code",
      "execution_count": 245,
      "metadata": {
        "colab": {
          "base_uri": "https://localhost:8080/",
          "height": 230
        },
        "id": "uJ6Ic5FA-rsG",
        "outputId": "012a1824-4e5a-4043-b679-2900f880f0fa"
      },
      "outputs": [],
      "source": [
        " # Creating a correlation matrix"
      ]
    },
    {
      "cell_type": "code",
      "execution_count": null,
      "metadata": {
        "colab": {
          "base_uri": "https://localhost:8080/",
          "height": 527
        },
        "id": "X3Ttk9fm-xoW",
        "outputId": "f2b4943d-577d-490f-a17e-bc9b56d68010"
      },
      "outputs": [],
      "source": []
    },
    {
      "cell_type": "markdown",
      "metadata": {
        "id": "FXKVFLUuBVrJ"
      },
      "source": [
        "# 3. Data Preprocessing\n",
        "\n",
        "\n",
        "*   Lower Case\n",
        "*   Tokenization\n",
        "*   Removing Special Characters\n",
        "*   Removing Stop Words and Punctuation\n",
        "*   Stemming\n",
        "\n",
        "\n",
        "\n",
        "\n",
        "\n"
      ]
    },
    {
      "cell_type": "code",
      "execution_count": 246,
      "metadata": {
        "colab": {
          "base_uri": "https://localhost:8080/"
        },
        "id": "4Zefo4z2Jo8w",
        "outputId": "153dd7ef-edb3-410d-83eb-7d6c596e3138"
      },
      "outputs": [
        {
          "name": "stderr",
          "output_type": "stream",
          "text": [
            "[nltk_data] Downloading package stopwords to\n",
            "[nltk_data]     C:\\Users\\karan\\AppData\\Roaming\\nltk_data...\n",
            "[nltk_data]   Package stopwords is already up-to-date!\n"
          ]
        }
      ],
      "source": [
        "#function to perform all these data preprocessing process\n",
        "\n",
        "import string #import punctutation marks\n",
        "import nltk #nltk library imported\n",
        "nltk.download('stopwords') #Downloading stopwords- these have no or little meaning in the document(eg:\"the\",\"and\",\"is\",\"in\",etc)\n",
        "from nltk.corpus import stopwords\n",
        "from nltk.stem.porter import PorterStemmer #for stemming\n",
        "ps =PorterStemmer()\n",
        "\n",
        "def Transform_text(text):\n",
        "    text=text.lower()     #Convert all textual data to Lower Case\n",
        "    text=nltk.word_tokenize(text)   #Performing Word-Tokenization i.e converting them into separate words\n",
        "\n",
        "    y=[]                  #it is variable which is a List.\n",
        "\n",
        "    #Removing Special Characters\n",
        "\n",
        "    for i in text:        #for loop for traversing each word\n",
        "        if i.isalnum():   #if i is alpha-numeric it will be appended to List y and others will be removed.\n",
        "            y.append(i)\n",
        "    text=y[:]             #assigning list y back to text\n",
        "    y.clear()             #clearing y\n",
        "\n",
        "    #Removing Stop Words and Punctuation\n",
        "\n",
        "    for i in text:\n",
        "        if i not in stopwords.words('english') and i not in string.punctuation:   #if i is not in stopwards as well as punctuation\n",
        "            y.append(i)                                                           #it will be appended to i\n",
        "\n",
        "    text=y[:]\n",
        "    y.clear()\n",
        "\n",
        "    #Stemming-reducing the words to base root form\n",
        "    for i in text:\n",
        "        y.append(ps.stem(i))   #converting each word to root from\n",
        "    return \" \".join(y)     #returning the root words in form of string"
      ]
    },
    {
      "cell_type": "code",
      "execution_count": 247,
      "metadata": {
        "colab": {
          "base_uri": "https://localhost:8080/",
          "height": 431
        },
        "id": "W1ed0DtJXoVt",
        "outputId": "1bacacf2-4b2a-4cd9-b4a8-da6a1a15a437"
      },
      "outputs": [
        {
          "data": {
            "text/html": [
              "<div>\n",
              "<style scoped>\n",
              "    .dataframe tbody tr th:only-of-type {\n",
              "        vertical-align: middle;\n",
              "    }\n",
              "\n",
              "    .dataframe tbody tr th {\n",
              "        vertical-align: top;\n",
              "    }\n",
              "\n",
              "    .dataframe thead th {\n",
              "        text-align: right;\n",
              "    }\n",
              "</style>\n",
              "<table border=\"1\" class=\"dataframe\">\n",
              "  <thead>\n",
              "    <tr style=\"text-align: right;\">\n",
              "      <th></th>\n",
              "      <th>Output</th>\n",
              "      <th>Text</th>\n",
              "      <th>num_char</th>\n",
              "      <th>num_words</th>\n",
              "      <th>num_sent</th>\n",
              "      <th>Transformed_Text</th>\n",
              "    </tr>\n",
              "  </thead>\n",
              "  <tbody>\n",
              "    <tr>\n",
              "      <th>0</th>\n",
              "      <td>0</td>\n",
              "      <td>Go until jurong point, crazy.. Available only ...</td>\n",
              "      <td>111</td>\n",
              "      <td>24</td>\n",
              "      <td>2</td>\n",
              "      <td>go jurong point crazi avail bugi n great world...</td>\n",
              "    </tr>\n",
              "    <tr>\n",
              "      <th>1</th>\n",
              "      <td>0</td>\n",
              "      <td>Ok lar... Joking wif u oni...</td>\n",
              "      <td>29</td>\n",
              "      <td>8</td>\n",
              "      <td>2</td>\n",
              "      <td>ok lar joke wif u oni</td>\n",
              "    </tr>\n",
              "    <tr>\n",
              "      <th>2</th>\n",
              "      <td>1</td>\n",
              "      <td>Free entry in 2 a wkly comp to win FA Cup fina...</td>\n",
              "      <td>155</td>\n",
              "      <td>37</td>\n",
              "      <td>2</td>\n",
              "      <td>free entri 2 wkli comp win fa cup final tkt 21...</td>\n",
              "    </tr>\n",
              "    <tr>\n",
              "      <th>3</th>\n",
              "      <td>0</td>\n",
              "      <td>U dun say so early hor... U c already then say...</td>\n",
              "      <td>49</td>\n",
              "      <td>13</td>\n",
              "      <td>1</td>\n",
              "      <td>u dun say earli hor u c alreadi say</td>\n",
              "    </tr>\n",
              "    <tr>\n",
              "      <th>4</th>\n",
              "      <td>0</td>\n",
              "      <td>Nah I don't think he goes to usf, he lives aro...</td>\n",
              "      <td>61</td>\n",
              "      <td>15</td>\n",
              "      <td>1</td>\n",
              "      <td>nah think goe usf live around though</td>\n",
              "    </tr>\n",
              "  </tbody>\n",
              "</table>\n",
              "</div>"
            ],
            "text/plain": [
              "   Output                                               Text  num_char  \\\n",
              "0       0  Go until jurong point, crazy.. Available only ...       111   \n",
              "1       0                      Ok lar... Joking wif u oni...        29   \n",
              "2       1  Free entry in 2 a wkly comp to win FA Cup fina...       155   \n",
              "3       0  U dun say so early hor... U c already then say...        49   \n",
              "4       0  Nah I don't think he goes to usf, he lives aro...        61   \n",
              "\n",
              "   num_words  num_sent                                   Transformed_Text  \n",
              "0         24         2  go jurong point crazi avail bugi n great world...  \n",
              "1          8         2                              ok lar joke wif u oni  \n",
              "2         37         2  free entri 2 wkli comp win fa cup final tkt 21...  \n",
              "3         13         1                u dun say earli hor u c alreadi say  \n",
              "4         15         1               nah think goe usf live around though  "
            ]
          },
          "execution_count": 247,
          "metadata": {},
          "output_type": "execute_result"
        }
      ],
      "source": [
        "#Saving the above changes into a new column: Transformed_Text\n",
        "dataset['Transformed_Text']=dataset['Text'].apply(Transform_text)\n",
        "dataset.head()"
      ]
    },
    {
      "cell_type": "markdown",
      "metadata": {
        "id": "5IKcyqLSK_Ry"
      },
      "source": [
        "### formation of word cloud"
      ]
    },
    {
      "cell_type": "code",
      "execution_count": 248,
      "metadata": {
        "id": "jsPNnKyoLFga"
      },
      "outputs": [],
      "source": [
        "from wordcloud import WordCloud       #to show important words in bigger font format\n",
        "wc = WordCloud(width=500, height=500, min_font_size=10,background_color='white')"
      ]
    },
    {
      "cell_type": "code",
      "execution_count": 249,
      "metadata": {
        "colab": {
          "base_uri": "https://localhost:8080/",
          "height": 471
        },
        "id": "KLYxFseHY4Mo",
        "outputId": "76b27aa2-e48c-4b8e-c3b1-9106dee5f692"
      },
      "outputs": [
        {
          "data": {
            "text/plain": [
              "<Figure size 1500x800 with 0 Axes>"
            ]
          },
          "execution_count": 249,
          "metadata": {},
          "output_type": "execute_result"
        },
        {
          "data": {
            "image/png": "[encoded data removed]",
            "text/plain": [
              "<Figure size 640x480 with 1 Axes>"
            ]
          },
          "metadata": {},
          "output_type": "display_data"
        },
        {
          "data": {
            "text/plain": [
              "<Figure size 1500x800 with 0 Axes>"
            ]
          },
          "metadata": {},
          "output_type": "display_data"
        }
      ],
      "source": [
        "#spam wordcloud\n",
        "spam_wc = wc.generate(dataset[dataset['Output'] == 1]['Transformed_Text'].str.cat(sep=\" \"))    #sep means separate\n",
        "#from Output we are extracting Transformed_text column and concatenate with space\n",
        "plt.imshow(spam_wc)\n",
        "plt.figure(figsize=(15,8))"
      ]
    },
    {
      "cell_type": "code",
      "execution_count": 250,
      "metadata": {
        "colab": {
          "base_uri": "https://localhost:8080/",
          "height": 471
        },
        "id": "5OdtAONtZGCR",
        "outputId": "27e79ff9-a0ff-403a-d406-75e4e7f91eb4"
      },
      "outputs": [
        {
          "data": {
            "text/plain": [
              "<Figure size 1500x800 with 0 Axes>"
            ]
          },
          "execution_count": 250,
          "metadata": {},
          "output_type": "execute_result"
        },
        {
          "data": {
            "image/png": "[encoded data removed]",
            "text/plain": [
              "<Figure size 640x480 with 1 Axes>"
            ]
          },
          "metadata": {},
          "output_type": "display_data"
        },
        {
          "data": {
            "text/plain": [
              "<Figure size 1500x800 with 0 Axes>"
            ]
          },
          "metadata": {},
          "output_type": "display_data"
        }
      ],
      "source": [
        "#Ham word cloud\n",
        "ham_wc = wc.generate(dataset[dataset['Output'] == 0]['Transformed_Text'].str.cat(sep=\" \"))\n",
        "plt.imshow(ham_wc)\n",
        "plt.figure(figsize=(15,8))\n"
      ]
    },
    {
      "cell_type": "code",
      "execution_count": 251,
      "metadata": {
        "colab": {
          "base_uri": "https://localhost:8080/",
          "height": 431
        },
        "id": "SGEVimknsaB2",
        "outputId": "7263f6ea-5968-4555-c525-3cc17e66f883"
      },
      "outputs": [
        {
          "data": {
            "text/html": [
              "<div>\n",
              "<style scoped>\n",
              "    .dataframe tbody tr th:only-of-type {\n",
              "        vertical-align: middle;\n",
              "    }\n",
              "\n",
              "    .dataframe tbody tr th {\n",
              "        vertical-align: top;\n",
              "    }\n",
              "\n",
              "    .dataframe thead th {\n",
              "        text-align: right;\n",
              "    }\n",
              "</style>\n",
              "<table border=\"1\" class=\"dataframe\">\n",
              "  <thead>\n",
              "    <tr style=\"text-align: right;\">\n",
              "      <th></th>\n",
              "      <th>Output</th>\n",
              "      <th>Text</th>\n",
              "      <th>num_char</th>\n",
              "      <th>num_words</th>\n",
              "      <th>num_sent</th>\n",
              "      <th>Transformed_Text</th>\n",
              "    </tr>\n",
              "  </thead>\n",
              "  <tbody>\n",
              "    <tr>\n",
              "      <th>0</th>\n",
              "      <td>0</td>\n",
              "      <td>Go until jurong point, crazy.. Available only ...</td>\n",
              "      <td>111</td>\n",
              "      <td>24</td>\n",
              "      <td>2</td>\n",
              "      <td>go jurong point crazi avail bugi n great world...</td>\n",
              "    </tr>\n",
              "    <tr>\n",
              "      <th>1</th>\n",
              "      <td>0</td>\n",
              "      <td>Ok lar... Joking wif u oni...</td>\n",
              "      <td>29</td>\n",
              "      <td>8</td>\n",
              "      <td>2</td>\n",
              "      <td>ok lar joke wif u oni</td>\n",
              "    </tr>\n",
              "    <tr>\n",
              "      <th>2</th>\n",
              "      <td>1</td>\n",
              "      <td>Free entry in 2 a wkly comp to win FA Cup fina...</td>\n",
              "      <td>155</td>\n",
              "      <td>37</td>\n",
              "      <td>2</td>\n",
              "      <td>free entri 2 wkli comp win fa cup final tkt 21...</td>\n",
              "    </tr>\n",
              "    <tr>\n",
              "      <th>3</th>\n",
              "      <td>0</td>\n",
              "      <td>U dun say so early hor... U c already then say...</td>\n",
              "      <td>49</td>\n",
              "      <td>13</td>\n",
              "      <td>1</td>\n",
              "      <td>u dun say earli hor u c alreadi say</td>\n",
              "    </tr>\n",
              "    <tr>\n",
              "      <th>4</th>\n",
              "      <td>0</td>\n",
              "      <td>Nah I don't think he goes to usf, he lives aro...</td>\n",
              "      <td>61</td>\n",
              "      <td>15</td>\n",
              "      <td>1</td>\n",
              "      <td>nah think goe usf live around though</td>\n",
              "    </tr>\n",
              "  </tbody>\n",
              "</table>\n",
              "</div>"
            ],
            "text/plain": [
              "   Output                                               Text  num_char  \\\n",
              "0       0  Go until jurong point, crazy.. Available only ...       111   \n",
              "1       0                      Ok lar... Joking wif u oni...        29   \n",
              "2       1  Free entry in 2 a wkly comp to win FA Cup fina...       155   \n",
              "3       0  U dun say so early hor... U c already then say...        49   \n",
              "4       0  Nah I don't think he goes to usf, he lives aro...        61   \n",
              "\n",
              "   num_words  num_sent                                   Transformed_Text  \n",
              "0         24         2  go jurong point crazi avail bugi n great world...  \n",
              "1          8         2                              ok lar joke wif u oni  \n",
              "2         37         2  free entri 2 wkli comp win fa cup final tkt 21...  \n",
              "3         13         1                u dun say earli hor u c alreadi say  \n",
              "4         15         1               nah think goe usf live around though  "
            ]
          },
          "execution_count": 251,
          "metadata": {},
          "output_type": "execute_result"
        }
      ],
      "source": [
        "dataset.head()"
      ]
    },
    {
      "cell_type": "code",
      "execution_count": 252,
      "metadata": {
        "colab": {
          "base_uri": "https://localhost:8080/"
        },
        "id": "V9rK_13it6ep",
        "outputId": "b2ee9022-6655-41ef-db63-191b008a5027"
      },
      "outputs": [
        {
          "name": "stdout",
          "output_type": "stream",
          "text": [
            "Index(['Output', 'Text', 'num_char', 'num_words', 'num_sent',\n",
            "       'Transformed_Text'],\n",
            "      dtype='object')\n"
          ]
        }
      ],
      "source": [
        "print(dataset.columns)"
      ]
    },
    {
      "cell_type": "code",
      "execution_count": 253,
      "metadata": {
        "id": "St6Ke3istN1p"
      },
      "outputs": [],
      "source": [
        "spam_corpus = []        #empty list\n",
        "#iterate over each message of spam and convert it into list\n",
        "for msg in dataset[dataset['Output'] == 1]['Transformed_Text'].tolist():\n",
        "  for word in msg.split():      #splitting each word\n",
        "    spam_corpus.append(word)    #appending each word in empty list spam_corpus"
      ]
    },
    {
      "cell_type": "code",
      "execution_count": 254,
      "metadata": {
        "colab": {
          "base_uri": "https://localhost:8080/"
        },
        "id": "HwcYADIWvatT",
        "outputId": "e8793538-a7d8-4c38-a8f5-30a76c3028d6"
      },
      "outputs": [
        {
          "data": {
            "text/plain": [
              "10337"
            ]
          },
          "execution_count": 254,
          "metadata": {},
          "output_type": "execute_result"
        }
      ],
      "source": [
        "len(spam_corpus) #total length of spams"
      ]
    },
    {
      "cell_type": "markdown",
      "metadata": {
        "id": "rL8TtzuhhNxG"
      },
      "source": [
        "# Model Building"
      ]
    },
    {
      "cell_type": "code",
      "execution_count": 255,
      "metadata": {
        "id": "OWi4zTwUhJFo"
      },
      "outputs": [],
      "source": [
        " #Naïve Bayes Classifier Algorithm ( Naive Bayes uses probability to make predictions)\n",
        " # we use this because\n",
        " # as for textual data this algorithm works best\n",
        "\n",
        " # 1st we have to convert the text into vectors or tokens.\n",
        "\n",
        " #  process we have\n",
        "     #bag of words (vectorize using bag of words)\n",
        "    # then give as input in naive bayes"
      ]
    },
    {
      "cell_type": "code",
      "execution_count": 256,
      "metadata": {
        "id": "qPeBtnGDpZ2U"
      },
      "outputs": [],
      "source": [
        "# VECTORIZATION\n",
        "#it transforms a set of text data into a numerical format\n",
        "from sklearn.feature_extraction.text import CountVectorizer,TfidfVectorizer #Term Frequency-Inverse Document Frequency\n",
        "cv = CountVectorizer()\n",
        "tfidf=TfidfVectorizer(max_features=3000)"
      ]
    },
    {
      "cell_type": "code",
      "execution_count": 257,
      "metadata": {
        "id": "vGltvDtrrnce"
      },
      "outputs": [],
      "source": [
        "X = tfidf.fit_transform(dataset['Transformed_Text']).toarray()"
      ]
    },
    {
      "cell_type": "code",
      "execution_count": 258,
      "metadata": {
        "colab": {
          "base_uri": "https://localhost:8080/"
        },
        "id": "B2rcz38lr3uJ",
        "outputId": "8c29c3e7-0b7d-4c3c-861d-cf7c85a3c2ae"
      },
      "outputs": [
        {
          "name": "stdout",
          "output_type": "stream",
          "text": [
            "[[0. 0. 0. ... 0. 0. 0.]\n",
            " [0. 0. 0. ... 0. 0. 0.]\n",
            " [0. 0. 0. ... 0. 0. 0.]\n",
            " ...\n",
            " [0. 0. 0. ... 0. 0. 0.]\n",
            " [0. 0. 0. ... 0. 0. 0.]\n",
            " [0. 0. 0. ... 0. 0. 0.]]\n"
          ]
        }
      ],
      "source": [
        "print(X)"
      ]
    },
    {
      "cell_type": "code",
      "execution_count": 259,
      "metadata": {
        "colab": {
          "base_uri": "https://localhost:8080/"
        },
        "id": "vNYG1BszxwIM",
        "outputId": "1d80c49c-603d-4f96-a85e-cf476a193063"
      },
      "outputs": [
        {
          "name": "stdout",
          "output_type": "stream",
          "text": [
            "(5278, 3000)\n"
          ]
        }
      ],
      "source": [
        "print (X.shape)"
      ]
    },
    {
      "cell_type": "code",
      "execution_count": 260,
      "metadata": {
        "colab": {
          "base_uri": "https://localhost:8080/"
        },
        "id": "vrmqUcZEwBCg",
        "outputId": "d90a6ff9-5073-4329-db86-e12339996645"
      },
      "outputs": [
        {
          "name": "stdout",
          "output_type": "stream",
          "text": [
            "[0 0 1 ... 0 0 0]\n"
          ]
        }
      ],
      "source": [
        "y = dataset['Output'].values\n",
        "print(y)"
      ]
    },
    {
      "cell_type": "markdown",
      "metadata": {
        "id": "CYEUH35pytD4"
      },
      "source": [
        "## Splitting the dataset into the Training set and Test set"
      ]
    },
    {
      "cell_type": "code",
      "execution_count": 261,
      "metadata": {
        "id": "CjRvdAepxuYW"
      },
      "outputs": [],
      "source": [
        "from sklearn.model_selection import train_test_split"
      ]
    },
    {
      "cell_type": "code",
      "execution_count": 262,
      "metadata": {
        "id": "306wDUJYyAG9"
      },
      "outputs": [],
      "source": [
        "X_train,X_test,y_train,y_test = train_test_split(X,y,test_size=0.2,random_state=2)  #X is feature matrix y is target variable x-features y- labels\n",
        "\n",
        "from sklearn.metrics import precision_score,confusion_matrix,accuracy_score"
      ]
    },
    {
      "cell_type": "markdown",
      "metadata": {
        "id": "X2jeNPPC6i4y"
      },
      "source": [
        "#### Importing naive bayes algorithms\n"
      ]
    },
    {
      "cell_type": "code",
      "execution_count": 263,
      "metadata": {
        "id": "vzePnlQnyiua"
      },
      "outputs": [],
      "source": [
        "from sklearn.naive_bayes import GaussianNB,MultinomialNB,BernoulliNB\n",
        "gnb=GaussianNB()\n",
        "mnb=MultinomialNB()\n",
        "bnb=BernoulliNB()"
      ]
    },
    {
      "cell_type": "markdown",
      "metadata": {
        "id": "3CoAMOhX8NS4"
      },
      "source": [
        "#### Applying naive bayes algorithms"
      ]
    },
    {
      "cell_type": "markdown",
      "metadata": {
        "id": "BzEAFZfh_Icd"
      },
      "source": [
        "#### 1.Gaussian naive Bayes(good at handling boolean attributes)"
      ]
    },
    {
      "cell_type": "code",
      "execution_count": 264,
      "metadata": {
        "colab": {
          "base_uri": "https://localhost:8080/"
        },
        "id": "L5TeQoCy6aBe",
        "outputId": "00ef4836-d8a5-4375-99a6-02a78267b484"
      },
      "outputs": [
        {
          "name": "stdout",
          "output_type": "stream",
          "text": [
            "0.8617424242424242\n",
            "[[787 128]\n",
            " [ 18 123]]\n",
            "0.4900398406374502\n"
          ]
        }
      ],
      "source": [
        "gnb.fit(X_train,y_train)\n",
        "y_predict1=gnb.predict(X_test)\n",
        "print(accuracy_score(y_test,y_predict1))\n",
        "print(confusion_matrix(y_test,y_predict1))\n",
        "print(precision_score(y_test,y_predict1))  #we want precision score is high because of imbalanced data"
      ]
    },
    {
      "cell_type": "markdown",
      "metadata": {
        "id": "c0ELVJ9k_Pw0"
      },
      "source": [
        "#### 2.Multonimial Naive bayes(good at handling discrete values)"
      ]
    },
    {
      "cell_type": "code",
      "execution_count": 265,
      "metadata": {
        "colab": {
          "base_uri": "https://localhost:8080/"
        },
        "id": "p0FRqnA66r5g",
        "outputId": "98bfd27c-5e7f-41cb-883e-a1c073eb0304"
      },
      "outputs": [
        {
          "name": "stdout",
          "output_type": "stream",
          "text": [
            "0.9753787878787878\n",
            "[[914   1]\n",
            " [ 25 116]]\n",
            "0.9914529914529915\n"
          ]
        }
      ],
      "source": [
        "mnb.fit(X_train,y_train)\n",
        "y_predict2=mnb.predict(X_test)\n",
        "print(accuracy_score(y_test,y_predict2))\n",
        "print(confusion_matrix(y_test,y_predict2))\n",
        "print(precision_score(y_test,y_predict2))\n",
        "\n",
        "# used this one because of high precision_score"
      ]
    },
    {
      "cell_type": "markdown",
      "metadata": {
        "id": "xqDiCfSH_hsk"
      },
      "source": [
        "#### 3. Bernoulli Naive Bayes(good at handling continuos values)"
      ]
    },
    {
      "cell_type": "code",
      "execution_count": 266,
      "metadata": {
        "colab": {
          "base_uri": "https://localhost:8080/"
        },
        "id": "xlk_Xobb_vyt",
        "outputId": "79ff36ad-0a79-44ef-8078-f31eab95c8a5"
      },
      "outputs": [
        {
          "name": "stdout",
          "output_type": "stream",
          "text": [
            "0.9791666666666666\n",
            "[[911   4]\n",
            " [ 18 123]]\n",
            "0.968503937007874\n"
          ]
        }
      ],
      "source": [
        "bnb.fit(X_train,y_train)\n",
        "y_predict3=bnb.predict(X_test)\n",
        "print(accuracy_score(y_test,y_predict3))\n",
        "print(confusion_matrix(y_test,y_predict3))\n",
        "print(precision_score(y_test,y_predict3))"
      ]
    },
    {
      "cell_type": "markdown",
      "metadata": {
        "id": "SGgqQRz_B_Wm"
      },
      "source": [
        "### Choosen mnb(Multonimial Naive bayes) due to its high precision score"
      ]
    },
    {
      "cell_type": "code",
      "execution_count": 267,
      "metadata": {
        "id": "AjAhLaCsUFyW"
      },
      "outputs": [],
      "source": [
        "from sklearn.svm import SVC # Support Vector Machine algorithm\n",
        "from sklearn.ensemble import RandomForestClassifier\n",
        "from sklearn.model_selection import train_test_split"
      ]
    },
    {
      "cell_type": "code",
      "execution_count": 268,
      "metadata": {
        "id": "DGVtKwMFVGDg"
      },
      "outputs": [],
      "source": [
        "# used two more classifiers\n",
        "svc = SVC(kernel='linear', C=1.0)\n",
        "rfc = RandomForestClassifier(n_estimators=50, random_state=2)"
      ]
    },
    {
      "cell_type": "markdown",
      "metadata": {
        "id": "MZvLu0slWJSu"
      },
      "source": [
        "#### Dictionary of Classifiers"
      ]
    },
    {
      "cell_type": "code",
      "execution_count": 269,
      "metadata": {
        "id": "YPvXoavIWQOm"
      },
      "outputs": [],
      "source": [
        "clfs={\n",
        "    'SVC':svc,\n",
        "    'RF':rfc,\n",
        "    'NB':mnb,\n",
        "}"
      ]
    },
    {
      "cell_type": "code",
      "execution_count": 270,
      "metadata": {
        "id": "txwwWoFNWYuM"
      },
      "outputs": [],
      "source": [
        "def train_classifier(clf, x_train, y_train, x_test, y_test):\n",
        "\n",
        "    clf.fit(x_train, y_train)\n",
        "\n",
        "    # Print the training and testing accuracy\n",
        "    y_pred=clf.predict(x_test)\n",
        "    accuracy= accuracy_score(y_test,y_pred)\n",
        "    precision=precision_score(y_test,y_pred)\n",
        "    return accuracy , precision"
      ]
    },
    {
      "cell_type": "code",
      "execution_count": 271,
      "metadata": {
        "colab": {
          "base_uri": "https://localhost:8080/"
        },
        "id": "1uqo3Mo2MADH",
        "outputId": "aa8a2ded-0069-4727-cd15-4791d9cb8b98"
      },
      "outputs": [
        {
          "data": {
            "text/plain": [
              "(0.9744318181818182, 0.975)"
            ]
          },
          "execution_count": 271,
          "metadata": {},
          "output_type": "execute_result"
        }
      ],
      "source": [
        "train_classifier(svc, X_train, y_train, X_test, y_test)"
      ]
    },
    {
      "cell_type": "code",
      "execution_count": 272,
      "metadata": {
        "colab": {
          "base_uri": "https://localhost:8080/"
        },
        "id": "Tcp3NyhTD9xK",
        "outputId": "3cd756c0-83a6-4ab4-ba87-a89961f22ea6"
      },
      "outputs": [
        {
          "name": "stdout",
          "output_type": "stream",
          "text": [
            "for SVC\n",
            "Accuracy 0.9744318181818182\n",
            "Precision 0.975\n",
            "for RF\n",
            "Accuracy 0.9706439393939394\n",
            "Precision 0.9824561403508771\n",
            "for NB\n",
            "Accuracy 0.9753787878787878\n",
            "Precision 0.9914529914529915\n"
          ]
        }
      ],
      "source": [
        "accuracy_scores = []\n",
        "precision_scores = []\n",
        "for name, clf in clfs.items():\n",
        "  current_accuracy , current_precision = train_classifier(clf, X_train, y_train, X_test, y_test)\n",
        "  print(\"for\" , name)\n",
        "  print(\"Accuracy\" , current_accuracy)\n",
        "  print(\"Precision\", current_precision)\n",
        "\n",
        "  accuracy_scores.append(current_accuracy)\n",
        "  precision_scores.append(current_precision)"
      ]
    },
    {
      "cell_type": "code",
      "execution_count": 273,
      "metadata": {
        "id": "cytmaVQXFaUa"
      },
      "outputs": [],
      "source": [
        "performance_dataset = pd.DataFrame({'Algorithm' : clfs.keys(), 'Accuracy' : accuracy_scores, 'Precision' : precision_scores})"
      ]
    },
    {
      "cell_type": "code",
      "execution_count": 274,
      "metadata": {
        "colab": {
          "base_uri": "https://localhost:8080/",
          "height": 143
        },
        "id": "N3Xwj2T6GS3w",
        "outputId": "21f608d5-fba1-4f23-da0c-dcc452191688"
      },
      "outputs": [
        {
          "data": {
            "text/html": [
              "<div>\n",
              "<style scoped>\n",
              "    .dataframe tbody tr th:only-of-type {\n",
              "        vertical-align: middle;\n",
              "    }\n",
              "\n",
              "    .dataframe tbody tr th {\n",
              "        vertical-align: top;\n",
              "    }\n",
              "\n",
              "    .dataframe thead th {\n",
              "        text-align: right;\n",
              "    }\n",
              "</style>\n",
              "<table border=\"1\" class=\"dataframe\">\n",
              "  <thead>\n",
              "    <tr style=\"text-align: right;\">\n",
              "      <th></th>\n",
              "      <th>Algorithm</th>\n",
              "      <th>Accuracy</th>\n",
              "      <th>Precision</th>\n",
              "    </tr>\n",
              "  </thead>\n",
              "  <tbody>\n",
              "    <tr>\n",
              "      <th>0</th>\n",
              "      <td>SVC</td>\n",
              "      <td>0.974432</td>\n",
              "      <td>0.975000</td>\n",
              "    </tr>\n",
              "    <tr>\n",
              "      <th>1</th>\n",
              "      <td>RF</td>\n",
              "      <td>0.970644</td>\n",
              "      <td>0.982456</td>\n",
              "    </tr>\n",
              "    <tr>\n",
              "      <th>2</th>\n",
              "      <td>NB</td>\n",
              "      <td>0.975379</td>\n",
              "      <td>0.991453</td>\n",
              "    </tr>\n",
              "  </tbody>\n",
              "</table>\n",
              "</div>"
            ],
            "text/plain": [
              "  Algorithm  Accuracy  Precision\n",
              "0       SVC  0.974432   0.975000\n",
              "1        RF  0.970644   0.982456\n",
              "2        NB  0.975379   0.991453"
            ]
          },
          "execution_count": 274,
          "metadata": {},
          "output_type": "execute_result"
        }
      ],
      "source": [
        "performance_dataset"
      ]
    },
    {
      "cell_type": "code",
      "execution_count": null,
      "metadata": {
        "id": "jjRFiZ4Gvikb"
      },
      "outputs": [],
      "source": []
    },
    {
      "cell_type": "code",
      "execution_count": 275,
      "metadata": {
        "id": "J2LOTa8hgpt2"
      },
      "outputs": [],
      "source": [
        " input_message =  \"URGENT: Your mobile number has won a cash prize. Reply 'WIN' to claim your money.\""
      ]
    },
    {
      "cell_type": "code",
      "execution_count": 276,
      "metadata": {
        "id": "I7ZmzqLPWhUl"
      },
      "outputs": [],
      "source": [
        "def predict_spam(txt):\n",
        "    try:\n",
        "        # Preprocess the input message\n",
        "        transformed_txt = Transform_text(txt)\n",
        "        \n",
        "        # Ensure that tfidf is properly initialized\n",
        "        message_vectorized = tfidf.transform([transformed_txt])\n",
        "        \n",
        "\n",
        "        # Make a prediction using the Multinomial Naive Bayes model\n",
        "        prediction = clfs['NB'].predict(message_vectorized)\n",
        "\n",
        "        # Return the prediction\n",
        "        return prediction[0]\n",
        "    except Exception as e:\n",
        "        print(f\"An error occurred: {e}\")\n",
        "        return None  \n"
      ]
    },
    {
      "cell_type": "code",
      "execution_count": 277,
      "metadata": {
        "colab": {
          "base_uri": "https://localhost:8080/"
        },
        "id": "u1rs80qPXiKW",
        "outputId": "e9684f25-099a-4bae-a44f-bb018f6c66ff"
      },
      "outputs": [
        {
          "name": "stdout",
          "output_type": "stream",
          "text": [
            "output:1\n",
            "Input Message: URGENT: Your mobile number has won a cash prize. Reply 'WIN' to claim your money.\n",
            "Transformed Message: urgent mobil number cash prize repli claim money\n",
            "Prediction (Naive Bayes): Spam\n"
          ]
        }
      ],
      "source": [
        "# Model output\n",
        "output_nb = predict_spam(input_message)\n",
        "print(f\"output:{output_nb}\")\n",
        "print(f\"Input Message: {input_message}\")\n",
        "print(f\"Transformed Message: {Transform_text(input_message)}\")\n",
        "print(f\"Prediction (Naive Bayes): {'Spam' if output_nb == 1 else 'not Spam'}\")"
      ]
    },
    {
      "cell_type": "markdown",
      "metadata": {
        "id": "WHqvgNhZD_rJ"
      },
      "source": [
        "**MODEL BUILDING COMPLETE**"
      ]
    },
    {
      "cell_type": "code",
      "execution_count": 278,
      "metadata": {
        "id": "KsZ4tkDsR-zW"
      },
      "outputs": [],
      "source": [
        "import pickle"
      ]
    },
    {
      "cell_type": "code",
      "execution_count": 280,
      "metadata": {
        "id": "32B6900rSjBE"
      },
      "outputs": [],
      "source": [
        "\n",
        "with open('Transform_text1.pkl', 'wb') as file:\n",
        "    pickle.dump(Transform_text, file)"
      ]
    },
    {
      "cell_type": "code",
      "execution_count": null,
      "metadata": {
        "id": "1R8TNGrZVNnT"
      },
      "outputs": [],
      "source": [
        "\n"
      ]
    }
  ],
  "metadata": {
    "colab": {
      "provenance": []
    },
    "kernelspec": {
      "display_name": "Python 3",
      "language": "python",
      "name": "python3"
    },
    "language_info": {
      "codemirror_mode": {
        "name": "ipython",
        "version": 3
      },
      "file_extension": ".py",
      "mimetype": "text/x-python",
      "name": "python",
      "nbconvert_exporter": "python",
      "pygments_lexer": "ipython3",
      "version": "3.11.5"
    }
  },
  "nbformat": 4,
  "nbformat_minor": 0
}
